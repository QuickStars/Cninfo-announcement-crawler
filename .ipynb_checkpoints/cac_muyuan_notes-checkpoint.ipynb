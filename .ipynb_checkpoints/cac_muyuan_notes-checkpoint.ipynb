{
 "cells": [
  {
   "cell_type": "code",
   "execution_count": 1,
   "id": "3fcaaab7",
   "metadata": {},
   "outputs": [],
   "source": [
    "from selenium import webdriver\n",
    "from selenium.webdriver.common.keys import Keys\n",
    "import time\n",
    "import calendar\n",
    "import datetime\n",
    "import re\n",
    "import os\n",
    "import sys\n",
    "from tqdm import tqdm"
   ]
  },
  {
   "cell_type": "code",
   "execution_count": 2,
   "id": "de9ffe4d",
   "metadata": {},
   "outputs": [],
   "source": [
    "def get_cninfo_announcements(url, keywords, downloadDir, ts = 5):\n",
    "    chrome_options = webdriver.ChromeOptions()\n",
    "    prefs = {'profile.default_content_settings.popups': 0, #防止保存弹窗\n",
    "        'download.default_directory':downloadDir,#设置默认下载路径\n",
    "        'profile.default_content_setting_values.automatic_downloads':1 #允许多文件下载\n",
    "        }\n",
    "    chrome_options.add_experimental_option('prefs', prefs)\n",
    "    \n",
    "    browser = webdriver.Chrome(options=chrome_options)\n",
    "    browser.get(url)\n",
    "    \n",
    "    searchBox = browser.find_element_by_xpath('//*[@id=\"main\"]/div[3]/div/div[2]/div/div/div[2]/div[1]/div[1]/form/div[1]/div/div/div/input')\n",
    "    searchBox.send_keys(keywords)\n",
    "    searchBox.send_keys(Keys.ENTER)\n",
    "    time.sleep(ts)\n",
    "    \n",
    "    data = browser.page_source\n",
    "    pageNum = int(re.findall('<ul class=\"el-pager\">.*>(.*?)</li></ul><button type',data)[0])\n",
    "    \n",
    "    datas = []\n",
    "    datas.append(data)\n",
    "    for index in range(1,pageNum):\n",
    "        browser.find_element_by_xpath('//*[@id=\"main\"]/div[3]/div/div[2]/div/div/div[2]/div[1]/div[4]/div/div/button[2]').click()\n",
    "        time.sleep(ts)\n",
    "        data = browser.page_source\n",
    "        datas.append(data)\n",
    "    allData = ''.join(datas)\n",
    "    \n",
    "    p_title = '<div class=\"cell\"><a target=\"_blank\" href=\".*?\" data-id=\".*?\" data-orgid=\".*?\" data-seccode=\".*?\" class=\"ahover\"><span title=\"(.*?)\" class=\"r-title\">.*?</div>'\n",
    "    p_href = '<div class=\"cell\"><a target=\"_blank\" href=\"(.*?)\" data-id=\".*?\" data-orgid=\".*?\" data-seccode=\".*?\" class=\"ahover\"><span title=\".*?\" class=\"r-title\">.*?</div>'\n",
    "\n",
    "    p_bulletId = '<div class=\"cell\"><a target=\"_blank\" href=\".*?\" data-id=\"(.*?)\" data-orgid=\".*?\" data-seccode=\".*?\" class=\"ahover\"><span title=\".*?\" class=\"r-title\">.*?</div>'\n",
    "    p_date = '<div class=\"cell\"><a target=\"_blank\" href=\".*?announcementTime=(.*?)\" data-id=\".*?\" data-orgid=\".*?\" data-seccode=\".*?\" class=\"ahover\"><span title=\".*?\" class=\"r-title\">.*?</div>'\n",
    " \n",
    "    title = re.findall(p_title,allData)\n",
    "    href = re.findall(p_href,allData)\n",
    "    bulletId = re.findall(p_bulletId,allData) \n",
    "    date = re.findall(p_date,allData)\n",
    "    \n",
    "    for index in tqdm(range(len(title))):\n",
    "#        print(title[index],' - ',date[index])\n",
    "#        print(downloadUrl)  \n",
    "        downloadUrl = 'http://www.cninfo.com.cn/new/announcement/download?bulletinId='+bulletId[index]+'&announceTime='+date[index]\n",
    "        browser.get(downloadUrl)\n",
    "        time.sleep(1)\n",
    "        sys.stdout.flush()\n",
    "    \n",
    "    browser.close()\n",
    "    "
   ]
  },
  {
   "cell_type": "code",
   "execution_count": 3,
   "id": "b974f2f2",
   "metadata": {},
   "outputs": [
    {
     "name": "stderr",
     "output_type": "stream",
     "text": [
      "100%|██████████| 100/100 [01:57<00:00,  1.17s/it]\n"
     ]
    }
   ],
   "source": [
    "url = 'http://www.cninfo.com.cn/new/disclosure/stock?stockCode=002714&orgId=9900022995#latestAnnouncement'\n",
    "downloadDir = os.getcwd()+\"\\\\announcements\\\\muyuan\\\\monthly\"\n",
    "get_cninfo_announcements(url, '销售简报', downloadDir)"
   ]
  }
 ],
 "metadata": {
  "kernelspec": {
   "display_name": "Python 3 (ipykernel)",
   "language": "python",
   "name": "python3"
  },
  "language_info": {
   "codemirror_mode": {
    "name": "ipython",
    "version": 3
   },
   "file_extension": ".py",
   "mimetype": "text/x-python",
   "name": "python",
   "nbconvert_exporter": "python",
   "pygments_lexer": "ipython3",
   "version": "3.10.9"
  }
 },
 "nbformat": 4,
 "nbformat_minor": 5
}
