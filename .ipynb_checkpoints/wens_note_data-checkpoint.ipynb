{
 "cells": [
  {
   "cell_type": "code",
   "execution_count": 71,
   "id": "7d6951f8",
   "metadata": {},
   "outputs": [],
   "source": [
    "import pdfplumber\n",
    "import os\n",
    "import re\n",
    "import pandas as pd\n",
    "import sys\n",
    "import datetime\n",
    "import calendar\n",
    "from tqdm import tqdm\n",
    "import win32com\n",
    "import win32com.client\n",
    "import docx\n",
    "import numpy as np"
   ]
  },
  {
   "cell_type": "code",
   "execution_count": 56,
   "id": "16ea4aba",
   "metadata": {},
   "outputs": [],
   "source": [
    "dirPath = os.getcwd()+'\\\\announcements\\\\wens\\\\notes\\\\'\n",
    "fileList = os.listdir(dirPath)"
   ]
  },
  {
   "cell_type": "code",
   "execution_count": 15,
   "id": "0ffea6dc",
   "metadata": {},
   "outputs": [],
   "source": [
    "def doc2docx(path):\n",
    "    w = win32com.client.Dispatch('Word.Application')\n",
    "    w.Visible = 0\n",
    "    w.DisplayAlerts = 0\n",
    "    doc = w.Documents.Open(path)\n",
    "    newpath = os.path.splitext(path)[0] + '.docx'\n",
    "    doc.SaveAs(newpath, 12, False, \"\", True, \"\", False, False, False, False)\n",
    "    doc.Close()\n",
    "    w.Quit()\n",
    "    os.remove(path)\n",
    "    return newpath "
   ]
  },
  {
   "cell_type": "code",
   "execution_count": 18,
   "id": "747e912d",
   "metadata": {},
   "outputs": [
    {
     "name": "stderr",
     "output_type": "stream",
     "text": [
      "100%|████████████████████████████████████████████████████████████████████████████████| 198/198 [02:45<00:00,  1.20it/s]\n"
     ]
    }
   ],
   "source": [
    "# change all doc to docx\n",
    "for file in tqdm(fileList):\n",
    "    if file[-3:] == 'DOC' or file[-3:] == 'doc':\n",
    "        doc2docx(dirPath+file)\n",
    "fileList = os.listdir(dirPath)"
   ]
  },
  {
   "cell_type": "code",
   "execution_count": 20,
   "id": "7d6e1f86",
   "metadata": {},
   "outputs": [],
   "source": [
    "def to_dateTime(dateText):\n",
    "    dateData = re.findall('(.*?)年(.*?)月(.*?)日',dateText)[0]\n",
    "    dateTime = datetime.datetime(int(dateData[0]), int(dateData[1]), int(dateData[2]))\n",
    "    return dateTime"
   ]
  },
  {
   "cell_type": "code",
   "execution_count": 21,
   "id": "f8911b33",
   "metadata": {},
   "outputs": [],
   "source": [
    "def get_noteData(fullText, noteDate):\n",
    "    fullText = '\\n'+fullText\n",
    "    noteData = []\n",
    "    qsData=[]\n",
    "    for text in re.split('\\n(.*?？)\\n',fullText)[1:]:\n",
    "        if re.match('.*?？$',text):\n",
    "            qsData = [noteDate,text]\n",
    "        else:\n",
    "            qsData.append(text)\n",
    "            noteData.append(qsData)\n",
    "    return noteData"
   ]
  },
  {
   "cell_type": "code",
   "execution_count": 22,
   "id": "30f88a39",
   "metadata": {},
   "outputs": [],
   "source": [
    "def read_note_docx(filePath, threshold=100):\n",
    "    doc = docx.Document(filePath)\n",
    "    tables = doc.tables\n",
    "    \n",
    "    fullText = ''\n",
    "    for table in tables:\n",
    "        for i in range(len(table.rows)):\n",
    "            for j in range(len(table.columns)):\n",
    "                cellText = table.cell(i,j).text \n",
    "                if(len(cellText)>threshold):\n",
    "                    noteText = cellText\n",
    "                date = re.match('\\d+年\\d+月\\d+日$',cellText)\n",
    "                if date:\n",
    "                    noteDate = to_dateTime(date.group())\n",
    "\n",
    "    return get_noteData(noteText, noteDate)"
   ]
  },
  {
   "cell_type": "code",
   "execution_count": 45,
   "id": "5a753717",
   "metadata": {},
   "outputs": [],
   "source": [
    "def read_note_pdf(filePath):\n",
    "    with pdfplumber.open(filePath) as pdf:\n",
    "        fullText = ''\n",
    "        for pageNum in range(len(pdf.pages)):\n",
    "            fullText = fullText + pdf.pages[pageNum].extract_text()\n",
    "        noteDate = to_dateTime(re.findall('\\d+年\\d+月\\d+日',filePath)[0])\n",
    "        noteText = re.findall('姓名.*?\\n(.*?？.*?)附件清单',fullText,re.S)[0]\n",
    "        \n",
    "        return get_noteData(noteText, noteDate)"
   ]
  },
  {
   "cell_type": "code",
   "execution_count": 24,
   "id": "a377cf00",
   "metadata": {},
   "outputs": [],
   "source": [
    "def read_note_pdf_p5w(filePath):\n",
    "    with pdfplumber.open(filePath) as pdf:\n",
    "        noteDate = to_dateTime(re.findall('\\d+年\\d+月\\d+日',filePath)[0])\n",
    "        \n",
    "        noteDataRaw = []\n",
    "        for pageNum in range(0,len(pdf.pages)):\n",
    "            for table in pdf.pages[pageNum].extract_tables():\n",
    "                noteDataRaw = noteDataRaw + table[1:]\n",
    "        \n",
    "        noteData = []\n",
    "        i = 0\n",
    "        while i < len(noteDataRaw):\n",
    "            if noteDataRaw[i][0] != '':\n",
    "                noteData.append([noteDate,noteDataRaw[i][1],noteDataRaw[i][2]])\n",
    "            else:\n",
    "                noteData.pop()\n",
    "                noteData.append([noteDate,noteDataRaw[i-1][1]+noteDataRaw[i][1],noteDataRaw[i-1][2]+noteDataRaw[i][2]])\n",
    "            i+=1\n",
    "           \n",
    "        return noteData"
   ]
  },
  {
   "cell_type": "code",
   "execution_count": 61,
   "id": "720bc068",
   "metadata": {},
   "outputs": [],
   "source": [
    "def read_note(filePath):\n",
    "    if 'doc' in filePath[-10:].lower():\n",
    "        return read_note_docx(filePath)\n",
    "    elif 'pdf'in filePath[-10:].lower():\n",
    "        if '路演' in filePath:\n",
    "            return read_note_pdf_p5w(filePath)\n",
    "        else:\n",
    "            return read_note_pdf(filePath)\n",
    "    else:\n",
    "        print('File type error: Should be either docx or pdf.')\n",
    "        return ['','','']"
   ]
  },
  {
   "cell_type": "code",
   "execution_count": 57,
   "id": "8991f337",
   "metadata": {},
   "outputs": [
    {
     "name": "stderr",
     "output_type": "stream",
     "text": [
      " 68%|██████████████████████████████████████████████████████                          | 133/197 [00:03<00:01, 37.42it/s]"
     ]
    },
    {
     "name": "stdout",
     "output_type": "stream",
     "text": [
      "File type error: Should be either docx or pdf.\n"
     ]
    },
    {
     "name": "stderr",
     "output_type": "stream",
     "text": [
      "100%|████████████████████████████████████████████████████████████████████████████████| 197/197 [01:12<00:00,  2.71it/s]\n"
     ]
    }
   ],
   "source": [
    "noteData = []\n",
    "for file in tqdm(fileList):\n",
    "    filePath = dirPath + file\n",
    "    try:\n",
    "        noteData = noteData + read_note(filePath)\n",
    "    except:\n",
    "        print(filePath)"
   ]
  },
  {
   "cell_type": "code",
   "execution_count": 73,
   "id": "e11896c2",
   "metadata": {},
   "outputs": [],
   "source": [
    "for note in noteData:\n",
    "    if note == '':\n",
    "        note = ['','','']\n",
    "    note[1] = note[1].replace('\\n','')\n",
    "    note[2] = note[2].replace('\\n','')\n",
    "\n",
    "tag = ['date', 'question', 'answer']\n",
    "noteDf = pd.DataFrame(noteData, columns=tag)\n",
    "noteDf.set_index('date', inplace = True)\n",
    "noteDf.sort_index(inplace=True)\n",
    "noteDf = noteDf.replace(to_replace='None', value=np.nan).dropna()"
   ]
  },
  {
   "cell_type": "code",
   "execution_count": 75,
   "id": "31772151",
   "metadata": {},
   "outputs": [],
   "source": [
    "outputPath = 'wens_notes.csv'\n",
    "noteDf.to_csv(outputPath,sep=',',index=True,header=True, encoding='utf_8_sig') "
   ]
  },
  {
   "cell_type": "code",
   "execution_count": 53,
   "id": "7f245967",
   "metadata": {},
   "outputs": [],
   "source": []
  },
  {
   "cell_type": "code",
   "execution_count": null,
   "id": "7fb14d3f",
   "metadata": {},
   "outputs": [],
   "source": []
  },
  {
   "cell_type": "code",
   "execution_count": null,
   "id": "a18a9d43",
   "metadata": {},
   "outputs": [],
   "source": []
  },
  {
   "cell_type": "code",
   "execution_count": null,
   "id": "b3b26a05",
   "metadata": {},
   "outputs": [],
   "source": []
  },
  {
   "cell_type": "code",
   "execution_count": null,
   "id": "86697834",
   "metadata": {},
   "outputs": [],
   "source": []
  }
 ],
 "metadata": {
  "kernelspec": {
   "display_name": "Python 3 (ipykernel)",
   "language": "python",
   "name": "python3"
  },
  "language_info": {
   "codemirror_mode": {
    "name": "ipython",
    "version": 3
   },
   "file_extension": ".py",
   "mimetype": "text/x-python",
   "name": "python",
   "nbconvert_exporter": "python",
   "pygments_lexer": "ipython3",
   "version": "3.10.9"
  }
 },
 "nbformat": 4,
 "nbformat_minor": 5
}
