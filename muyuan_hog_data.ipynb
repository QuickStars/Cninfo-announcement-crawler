{
 "cells": [
  {
   "cell_type": "code",
   "execution_count": 1,
   "id": "76727d96",
   "metadata": {},
   "outputs": [],
   "source": [
    "import pdfplumber\n",
    "import os\n",
    "import re\n",
    "import pandas as pd\n",
    "import sys\n",
    "import datetime\n",
    "import calendar\n",
    "from tqdm import tqdm"
   ]
  },
  {
   "cell_type": "code",
   "execution_count": 2,
   "id": "3810a65f",
   "metadata": {},
   "outputs": [],
   "source": [
    "dirPath = '.\\\\announcements\\\\muyuan\\\\monthly'\n",
    "fileList = os.listdir(dirPath)"
   ]
  },
  {
   "cell_type": "code",
   "execution_count": 3,
   "id": "ade26c11",
   "metadata": {},
   "outputs": [],
   "source": [
    "def get_data(patten, text):\n",
    "    try:\n",
    "        data = float(re.findall(patten, text)[0])\n",
    "        return data\n",
    "    except:\n",
    "        return 'NA'"
   ]
  },
  {
   "cell_type": "code",
   "execution_count": 4,
   "id": "2da809bc",
   "metadata": {},
   "outputs": [
    {
     "name": "stderr",
     "output_type": "stream",
     "text": [
      "100%|██████████| 100/100 [01:15<00:00,  1.33it/s]\n"
     ]
    }
   ],
   "source": [
    "hogData = []\n",
    "for file in tqdm(fileList):\n",
    "    filePath = dirPath+'\\\\'+file\n",
    "    with pdfplumber.open(filePath) as pdf:\n",
    "        page = pdf.pages[0]\n",
    "        text = page.extract_text()\n",
    "        text = ''.join(text.split()) #去除空白符\n",
    "        text = text.replace(',','')\n",
    "\n",
    "        p_year = '一、(.*?)年'\n",
    "        p_month = '一、.*?年(.*?)月份'\n",
    "        p_year = '一、(.*?)年'\n",
    "        p_month = '一、.*?年(.*?)月份'\n",
    "        year = re.findall(p_year, text)[0]\n",
    "        month = re.findall(p_month, text)[0]\n",
    "        if month == '1-2':\n",
    "            startDate = datetime.datetime(int(year), 1, 1)\n",
    "            endDate = datetime.datetime(int(year), 2, calendar.monthrange(int(year), 2)[1])\n",
    "        else:\n",
    "            startDate = datetime.datetime(int(year), int(month), 1)\n",
    "            endDate = datetime.datetime(int(year), int(month), calendar.monthrange(int(year), int(month))[1])\n",
    "        qDate = str((startDate.month-1)//3+1)+'Q'+str(startDate.year%100)\n",
    "        \n",
    "        p_total = '销售生猪(.*?)万头' \n",
    "        p_hog = '商品猪(.*?)万头.*?均价'\n",
    "        p_piglet = '仔猪(.*?)万头.*?均价'\n",
    "        p_sow = '种猪(.*?)万头.*?均价'\n",
    "        p_toSubs = '子公司.*?销售生猪(.*?)万头'\n",
    "        p_hogPrice = '均价(.*?)元'\n",
    "        p_hogRev = '销售收入(.*?)亿元'\n",
    "        p_total_qtr = '均价.*?共销售生猪(.*?)万头'\n",
    "        p_hog_qtr = '均价.*?其中商品猪(.*?)万头'\n",
    "        p_piglet_qtr = '均价.*?仔猪(.*?)万头'\n",
    "        p_sow_qtr = '均价.*?种猪(.*?)万头'\n",
    "        p_breedingSowInv = '能繁母猪存栏为(.*?)万头'\n",
    "        \n",
    "\n",
    "        total = get_data(p_total, text)\n",
    "        hog = get_data(p_hog, text)\n",
    "        piglet = get_data(p_piglet, text.replace('销售',''))\n",
    "        sow = get_data(p_sow, text)\n",
    "        toSubs = get_data(p_toSubs, text)\n",
    "        hogPrice = get_data(p_hogPrice, text)\n",
    "        hogRev = get_data(p_hogRev, text)\n",
    "        totalQtr = get_data(p_total_qtr, text)\n",
    "        hogQtr = get_data(p_hog_qtr, text)\n",
    "        pigletQtr = get_data(p_piglet_qtr, text)\n",
    "        sowQtr = get_data(p_sow_qtr, text)\n",
    "        breedingSowInv = get_data(p_breedingSowInv, text)\n",
    "\n",
    "        hogData.append([startDate, endDate, qDate, total, hog, piglet, sow, toSubs, hogPrice, hogRev, totalQtr, hogQtr, pigletQtr, sowQtr, breedingSowInv])\n",
    "        sys.stdout.flush()"
   ]
  },
  {
   "cell_type": "code",
   "execution_count": 5,
   "id": "c46ab13e",
   "metadata": {},
   "outputs": [],
   "source": [
    "tag = ['start date', 'end date', 'qdate','total', 'hog', 'piglet', 'sow', 'to subsidiaries', 'hog price', 'hog revenue', 'total qtr', 'hog qtr', 'piglet qtr', 'sow qtr', 'breeding sow inventory']\n",
    "hogDf = pd.DataFrame(hogData, columns=tag)\n",
    "hogDf.set_index('start date', inplace = True)\n",
    "hogDf.sort_index(inplace=True)"
   ]
  },
  {
   "cell_type": "code",
   "execution_count": 6,
   "id": "9d12ee13",
   "metadata": {},
   "outputs": [],
   "source": [
    "outputPath = 'muyuan_monthly.csv'\n",
    "hogDf.to_csv(outputPath,sep=',',index=True,header=True) "
   ]
  },
  {
   "cell_type": "code",
   "execution_count": null,
   "id": "38e7b366",
   "metadata": {},
   "outputs": [],
   "source": []
  }
 ],
 "metadata": {
  "kernelspec": {
   "display_name": "Python 3 (ipykernel)",
   "language": "python",
   "name": "python3"
  },
  "language_info": {
   "codemirror_mode": {
    "name": "ipython",
    "version": 3
   },
   "file_extension": ".py",
   "mimetype": "text/x-python",
   "name": "python",
   "nbconvert_exporter": "python",
   "pygments_lexer": "ipython3",
   "version": "3.10.9"
  }
 },
 "nbformat": 4,
 "nbformat_minor": 5
}
